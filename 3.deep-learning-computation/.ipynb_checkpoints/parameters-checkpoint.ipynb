{
 "cells": [
  {
   "cell_type": "markdown",
   "id": "feb62d09",
   "metadata": {},
   "source": [
    "# 参数管理\n",
    "\n",
    "* 访问参数，用于调试、诊断和可视化；\n",
    "* 参数初始化；\n",
    "* 在不同模型组件间共享参数。\n",
    "\n",
    "(**首先看一下具有单隐藏层的多层感知机。**)"
   ]
  },
  {
   "cell_type": "code",
   "execution_count": 9,
   "id": "da48f873",
   "metadata": {},
   "outputs": [
    {
     "data": {
      "text/plain": [
       "tensor([[ 0.0135],\n",
       "        [-0.0756]], grad_fn=<AddmmBackward0>)"
      ]
     },
     "execution_count": 9,
     "metadata": {},
     "output_type": "execute_result"
    }
   ],
   "source": [
    "import torch\n",
    "from torch import nn\n",
    "\n",
    "net = nn.Sequential(nn.Linear(4, 8), nn.ReLU(), nn.Linear(8, 1))\n",
    "X = torch.rand(size=(2, 4))\n",
    "net(X)"
   ]
  },
  {
   "cell_type": "markdown",
   "id": "1bc5f7fe",
   "metadata": {},
   "source": [
    "## 参数访问\n",
    "从已有模型中访问参数。当通过`Sequential`类定义模型时，可通过索引来访问模型的任意层。  \n",
    "参数是复合的对象，包括值、梯度和额外信息"
   ]
  },
  {
   "cell_type": "markdown",
   "id": "8f6657e2",
   "metadata": {},
   "source": [
    "### 目标参数"
   ]
  },
  {
   "cell_type": "code",
   "execution_count": 10,
   "id": "ba317958",
   "metadata": {},
   "outputs": [
    {
     "name": "stdout",
     "output_type": "stream",
     "text": [
      "OrderedDict([('weight', tensor([[ 0.0475, -0.0731, -0.0513,  0.1706,  0.3019, -0.2245,  0.1473, -0.2425]])), ('bias', tensor([-0.0864]))])\n",
      "<class 'torch.nn.parameter.Parameter'>\n",
      "Parameter containing:\n",
      "tensor([-0.0864], requires_grad=True)\n",
      "tensor([-0.0864])\n"
     ]
    },
    {
     "data": {
      "text/plain": [
       "True"
      ]
     },
     "execution_count": 10,
     "metadata": {},
     "output_type": "execute_result"
    }
   ],
   "source": [
    "print(net[2].state_dict())\n",
    "\n",
    "print(type(net[2].bias))\n",
    "print(net[2].bias)\n",
    "print(net[2].bias.data)\n",
    "\n",
    "net[2].weight.grad == None"
   ]
  },
  {
   "cell_type": "markdown",
   "id": "2cb5b9be",
   "metadata": {},
   "source": [
    "### 一次性访问所有参数\n",
    "\n",
    "在Python中，星号 * 用于解压可迭代对象，例如列表或元组。当它放置在一个可迭代对象前面时，它会将该对象解压成单独的元素。  \n",
    "在如下代码中，* 用于解压列表推导式生成的元组列表，以便将其作为单独的参数传递给 print 函数。这样做可以使 print 函数按照我们希望的方式打印元组中的元素，而不是将整个列表作为一个参数打印出来。"
   ]
  },
  {
   "cell_type": "code",
   "execution_count": 11,
   "id": "0a54f575",
   "metadata": {},
   "outputs": [
    {
     "name": "stdout",
     "output_type": "stream",
     "text": [
      "('weight', torch.Size([8, 4])) ('bias', torch.Size([8]))\n",
      "('0.weight', torch.Size([8, 4])) ('0.bias', torch.Size([8])) ('2.weight', torch.Size([1, 8])) ('2.bias', torch.Size([1]))\n"
     ]
    }
   ],
   "source": [
    "print(*[(name, param.shape) for name, param in net[0].named_parameters()])\n",
    "print(*[(name, param.shape) for name, param in net.named_parameters()])"
   ]
  },
  {
   "cell_type": "code",
   "execution_count": 12,
   "id": "73927c7a",
   "metadata": {},
   "outputs": [
    {
     "name": "stdout",
     "output_type": "stream",
     "text": [
      "OrderedDict([('0.weight', tensor([[ 0.0645,  0.2520, -0.1812,  0.2107],\n",
      "        [-0.3619, -0.2846, -0.3455,  0.4389],\n",
      "        [ 0.1730, -0.3560,  0.1068,  0.4658],\n",
      "        [ 0.0736,  0.0735, -0.1898,  0.3316],\n",
      "        [ 0.1834,  0.4269, -0.1388, -0.1996],\n",
      "        [-0.4885, -0.2174,  0.2822, -0.2198],\n",
      "        [ 0.1989,  0.1240,  0.1747, -0.4638],\n",
      "        [ 0.4466,  0.0437,  0.3509, -0.3087]])), ('0.bias', tensor([-0.2028, -0.3927, -0.2137, -0.0063,  0.1671, -0.4662, -0.2000, -0.2567])), ('2.weight', tensor([[ 0.0475, -0.0731, -0.0513,  0.1706,  0.3019, -0.2245,  0.1473, -0.2425]])), ('2.bias', tensor([-0.0864]))])\n"
     ]
    },
    {
     "data": {
      "text/plain": [
       "tensor([-0.0864])"
      ]
     },
     "execution_count": 12,
     "metadata": {},
     "output_type": "execute_result"
    }
   ],
   "source": [
    "# 另一种访问网络参数的方式\n",
    "print(net.state_dict())\n",
    "net.state_dict()['2.bias'].data"
   ]
  },
  {
   "cell_type": "markdown",
   "id": "52794b84",
   "metadata": {},
   "source": [
    "### 从嵌套块收集参数\n",
    "首先定义一个生成块的函数（可以说是“块工厂”），然后将这些块组合到更大的块中。"
   ]
  },
  {
   "cell_type": "code",
   "execution_count": 13,
   "id": "ceaa8f9c",
   "metadata": {},
   "outputs": [
    {
     "name": "stdout",
     "output_type": "stream",
     "text": [
      "tensor([[0.2017],\n",
      "        [0.2017]], grad_fn=<AddmmBackward0>)\n",
      "Sequential(\n",
      "  (0): Sequential(\n",
      "    (block 0): Sequential(\n",
      "      (0): Linear(in_features=4, out_features=8, bias=True)\n",
      "      (1): ReLU()\n",
      "      (2): Linear(in_features=8, out_features=4, bias=True)\n",
      "      (3): ReLU()\n",
      "    )\n",
      "    (block 1): Sequential(\n",
      "      (0): Linear(in_features=4, out_features=8, bias=True)\n",
      "      (1): ReLU()\n",
      "      (2): Linear(in_features=8, out_features=4, bias=True)\n",
      "      (3): ReLU()\n",
      "    )\n",
      "    (block 2): Sequential(\n",
      "      (0): Linear(in_features=4, out_features=8, bias=True)\n",
      "      (1): ReLU()\n",
      "      (2): Linear(in_features=8, out_features=4, bias=True)\n",
      "      (3): ReLU()\n",
      "    )\n",
      "    (block 3): Sequential(\n",
      "      (0): Linear(in_features=4, out_features=8, bias=True)\n",
      "      (1): ReLU()\n",
      "      (2): Linear(in_features=8, out_features=4, bias=True)\n",
      "      (3): ReLU()\n",
      "    )\n",
      "  )\n",
      "  (1): Linear(in_features=4, out_features=1, bias=True)\n",
      ")\n",
      "tensor([ 0.3057,  0.3824, -0.4219, -0.1528,  0.0371, -0.0590, -0.0781,  0.4976])\n"
     ]
    }
   ],
   "source": [
    "def block1():\n",
    "    return nn.Sequential(nn.Linear(4, 8), nn.ReLU(),\n",
    "                         nn.Linear(8, 4), nn.ReLU())\n",
    "\n",
    "def block2():\n",
    "    net = nn.Sequential()\n",
    "    for i in range(4):\n",
    "        # 在这里嵌套\n",
    "        net.add_module(f'block {i}', block1())\n",
    "    return net\n",
    "\n",
    "rgnet = nn.Sequential(block2(), nn.Linear(4, 1))\n",
    "print(rgnet(X))\n",
    "print(rgnet)\n",
    "print(rgnet[0][1][0].bias.data)"
   ]
  },
  {
   "cell_type": "markdown",
   "id": "2925c207",
   "metadata": {},
   "source": [
    "## 参数初始化"
   ]
  },
  {
   "cell_type": "markdown",
   "id": "e33dea5a",
   "metadata": {},
   "source": [
    "### 内置初始化\n",
    "apply()函数：对于net的每个layer（module）都调用init_normal()函数，for loop"
   ]
  },
  {
   "cell_type": "code",
   "execution_count": 14,
   "id": "de2c4dbf",
   "metadata": {},
   "outputs": [
    {
     "data": {
      "text/plain": [
       "(tensor([-0.0036, -0.0024, -0.0028,  0.0177]), tensor(0.))"
      ]
     },
     "execution_count": 14,
     "metadata": {},
     "output_type": "execute_result"
    }
   ],
   "source": [
    "# 将所有权重参数初始化为标准差为0.01的高斯随机变量， 且将偏置参数设置为0\n",
    "def init_normal(m):\n",
    "    if type(m) == nn.Linear:\n",
    "        nn.init.normal_(m.weight, mean=0, std=0.01)\n",
    "        nn.init.zeros_(m.bias)\n",
    "net.apply(init_normal)\n",
    "net[0].weight.data[0], net[0].bias.data[0]"
   ]
  },
  {
   "cell_type": "code",
   "execution_count": 15,
   "id": "ebaa428d",
   "metadata": {},
   "outputs": [
    {
     "data": {
      "text/plain": [
       "(tensor([1., 1., 1., 1.]), tensor(0.))"
      ]
     },
     "execution_count": 15,
     "metadata": {},
     "output_type": "execute_result"
    }
   ],
   "source": [
    "# 将所有参数初始化为给定的常数，如初始化为1\n",
    "def init_constant(m):\n",
    "    if type(m) == nn.Linear:\n",
    "        nn.init.constant_(m.weight, 1)\n",
    "        nn.init.zeros_(m.bias)\n",
    "net.apply(init_constant)\n",
    "net[0].weight.data[0], net[0].bias.data[0]"
   ]
  },
  {
   "cell_type": "markdown",
   "id": "8b882a94",
   "metadata": {},
   "source": [
    "[**对某些块应用不同的初始化方法**]。\n",
    "如使用Xavier初始化方法初始化第一个神经网络层；将第三个神经网络层初始化为常量值42"
   ]
  },
  {
   "cell_type": "code",
   "execution_count": 16,
   "id": "4d02dac3",
   "metadata": {},
   "outputs": [
    {
     "name": "stdout",
     "output_type": "stream",
     "text": [
      "tensor([ 0.0921, -0.2745,  0.5397, -0.2150])\n",
      "tensor([[42., 42., 42., 42., 42., 42., 42., 42.]])\n"
     ]
    }
   ],
   "source": [
    "def init_xavier(m):\n",
    "    if type(m) == nn.Linear:\n",
    "        nn.init.xavier_uniform_(m.weight)\n",
    "def init_42(m):\n",
    "    if type(m) == nn.Linear:\n",
    "        nn.init.constant_(m.weight, 42)\n",
    "\n",
    "net[0].apply(init_xavier)\n",
    "net[2].apply(init_42)\n",
    "print(net[0].weight.data[0])\n",
    "print(net[2].weight.data)"
   ]
  },
  {
   "cell_type": "markdown",
   "id": "df74d9d4",
   "metadata": {},
   "source": [
    "### 自定义初始化\n",
    "如使用以下的分布为任意权重参数$w$定义初始化方法：\n",
    "\n",
    "$$\n",
    "\\begin{aligned}\n",
    "    w \\sim \\begin{cases}\n",
    "        U(5, 10) & \\text{ 可能性 } \\frac{1}{4} \\\\\n",
    "            0    & \\text{ 可能性 } \\frac{1}{2} \\\\\n",
    "        U(-10, -5) & \\text{ 可能性 } \\frac{1}{4}\n",
    "    \\end{cases}\n",
    "\\end{aligned}\n",
    "$$"
   ]
  },
  {
   "cell_type": "code",
   "execution_count": 17,
   "id": "f1b8d499",
   "metadata": {},
   "outputs": [
    {
     "name": "stdout",
     "output_type": "stream",
     "text": [
      "Init weight torch.Size([8, 4])\n",
      "Init weight torch.Size([1, 8])\n"
     ]
    },
    {
     "data": {
      "text/plain": [
       "Parameter containing:\n",
       "tensor([[-5.2154, -9.9289, -0.0000, -0.0000],\n",
       "        [-5.0505,  6.4706,  7.3130, -8.4020],\n",
       "        [ 9.7005, -0.0000,  8.9630, -0.0000],\n",
       "        [ 0.0000, -9.7680, -9.3312,  8.9540],\n",
       "        [-0.0000,  0.0000,  8.5914,  5.5630],\n",
       "        [ 5.5487, -7.6333, -0.0000,  0.0000],\n",
       "        [-0.0000, -5.3803,  8.9434,  8.3106],\n",
       "        [ 0.0000,  9.2784,  0.0000,  0.0000]], requires_grad=True)"
      ]
     },
     "execution_count": 17,
     "metadata": {},
     "output_type": "execute_result"
    }
   ],
   "source": [
    "def my_init(m):\n",
    "    if type(m) == nn.Linear:\n",
    "        print(\"Init\", *[(name, param.shape) for name, param in m.named_parameters()][0])\n",
    "        nn.init.uniform_(m.weight, -10, 10)\n",
    "        m.weight.data *= m.weight.data.abs() >= 5\n",
    "net.apply(my_init)\n",
    "net[0].weight"
   ]
  },
  {
   "cell_type": "code",
   "execution_count": 18,
   "id": "6ff305d6",
   "metadata": {},
   "outputs": [
    {
     "data": {
      "text/plain": [
       "tensor([42.0000, -8.9289,  1.0000,  1.0000])"
      ]
     },
     "execution_count": 18,
     "metadata": {},
     "output_type": "execute_result"
    }
   ],
   "source": [
    "# 注意，参数可以直接设置\n",
    "net[0].weight.data[:] += 1\n",
    "net[0].weight.data[0, 0] = 42\n",
    "net[0].weight.data[0]"
   ]
  },
  {
   "cell_type": "markdown",
   "id": "30044dab",
   "metadata": {},
   "source": [
    "## 参数绑定\n",
    "有时希望在多个层间共享参数：可以定义一个稠密层，然后使用它的参数来设置另一个层的参数。"
   ]
  },
  {
   "cell_type": "code",
   "execution_count": 19,
   "id": "b8de61d0",
   "metadata": {},
   "outputs": [
    {
     "name": "stdout",
     "output_type": "stream",
     "text": [
      "tensor([True, True, True, True, True, True, True, True])\n",
      "tensor([True, True, True, True, True, True, True, True])\n"
     ]
    }
   ],
   "source": [
    "# 需要给共享层一个名称，以便可以引用它的参数\n",
    "shared = nn.Linear(8, 8)\n",
    "net = nn.Sequential(nn.Linear(4, 8), nn.ReLU(),\n",
    "                    shared, nn.ReLU(),\n",
    "                    shared, nn.ReLU(),\n",
    "                    nn.Linear(8, 1))\n",
    "net(X)\n",
    "# 检查参数是否相同\n",
    "print(net[2].weight.data[0] == net[4].weight.data[0])\n",
    "net[2].weight.data[0, 0] = 100\n",
    "# 确保它们实际上是同一个对象，而不只是有相同的值\n",
    "print(net[2].weight.data[0] == net[4].weight.data[0])"
   ]
  },
  {
   "cell_type": "markdown",
   "id": "1bf2884f",
   "metadata": {},
   "source": [
    "有一个问题：当参数绑定时，梯度会发生什么情况？\n",
    "答案是由于模型参数包含梯度，因此在反向传播期间第二个隐藏层（即第三个神经网络层）和第三个隐藏层（即第五个神经网络层）的梯度会加在一起。"
   ]
  },
  {
   "cell_type": "markdown",
   "id": "3305bfea",
   "metadata": {},
   "source": [
    "#### 语法总结：  \n",
    "* 在Python中，星号 * 用于解压可迭代对象，例如列表或元组。当它放置在一个可迭代对象前面时，它会将该对象解压成单独的元素。  \n",
    "在如下代码中，* 用于解压列表推导式生成的元组列表，以便将其作为单独的参数传递给 print 函数。这样做可以使 print 函数按照我们希望的方式打印元组中的元素，而不是将整个列表作为一个参数打印出来。  \n",
    "**print(*[(name, param.shape) for name, param in net[0].named_parameters()])**\n",
    "* apply()函数：对于net的每个layer（module）都调用init_normal()函数，for loop。  \n",
    "**net.apply(init_constant)**\n",
    "* f:一个字符串格式化方法，用于创建带有变量的字符串。  \n",
    "  具体来说，f'block {i}' 使用了 f-string 的语法，其中 {i} 将被变量 i 的值替换，生成形如 'block 0'、'block 1'、'block    2'、'block 3' 的字符串。这样的字符串用作子模块的名称。  \n",
    "**for i in range(4):  \n",
    "    net.add_module(f'block {i}', block1())  \n",
    "    return net** \n",
    "* 在 PyTorch 中，state_dict() 和 named_parameters() 是用于处理模型参数的两个常用方法。  \n",
    "  **state_dict()** 方法用于返回模型的状态字典。状态字典是一个字典对象，其中包含了模型所有参数的键值对。键是参数的名称，值是参数的张量。这个方法通常用于保存和加载模型，以及在训练过程中保存和恢复模型的状态。  \n",
    "  **named_parameters()** 方法返回一个生成器，它可以用于遍历模型中的所有参数。每个参数都以 (name, parameter) 的形式返回，其中 name 是参数的名称，parameter 是参数的张量。这个方法通常用于在训练过程中对模型参数进行操作，比如对不同的参数应用不同的学习率。  \n",
    "  它们的差异主要体现在3方面：\n",
    "  * 返回值类型不同\n",
    "  * 存储的模型参数的种类不同\n",
    "  * 返回的值的require_grad属性不同  \n",
    "  1.model.state_dict()是将layer_name:layer_param的键值信息存储为dict形式，而model.named_parameters()则是打包成一个元祖然后再存到list当中  \n",
    "  2.model.state_dict()存储的是该model中包含的所有layer中的所有参数；而model.named_parameters()则只保存可学习、可被更新的参数， model.buffer()中的参数不包含在model.named_parameters()中  \n",
    "  3.model.state_dict()所存储的模型参数tensor的require_grad属性都是False，而model.named_parameters()的require_grad属性都是True"
   ]
  }
 ],
 "metadata": {
  "kernelspec": {
   "display_name": "Python 3 (ipykernel)",
   "language": "python",
   "name": "python3"
  },
  "language_info": {
   "codemirror_mode": {
    "name": "ipython",
    "version": 3
   },
   "file_extension": ".py",
   "mimetype": "text/x-python",
   "name": "python",
   "nbconvert_exporter": "python",
   "pygments_lexer": "ipython3",
   "version": "3.9.19"
  }
 },
 "nbformat": 4,
 "nbformat_minor": 5
}
