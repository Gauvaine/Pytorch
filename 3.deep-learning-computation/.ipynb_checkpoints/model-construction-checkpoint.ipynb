{
 "cells": [
  {
   "cell_type": "markdown",
   "id": "2b533821",
   "metadata": {},
   "source": [
    "## 回顾多层感知机\n",
    "在这个例子中，通过实例化`nn.Sequential`来构建模型，层的执行顺序是作为参数传递的。  \n",
    "**`nn.Sequential`定义了一种特殊的`Module`**，即在PyTorch中表示一个块的类，它维护了一个由`Module`组成的有序列表。  \n",
    "注意，两个全连接层都是`Linear`类的实例，`Linear`类本身就是`Module`的子类。  \n",
    "另外，通过`net(X)`调用模型来获得模型的输出，这实际上是`net.__call__(X)`的简写。"
   ]
  },
  {
   "cell_type": "code",
   "execution_count": 4,
   "id": "b9df0ac2",
   "metadata": {},
   "outputs": [
    {
     "data": {
      "text/plain": [
       "tensor([[-0.0297, -0.0955, -0.1339, -0.1052, -0.0353, -0.1370, -0.0003, -0.1600,\n",
       "          0.1311,  0.0293],\n",
       "        [-0.0802, -0.1107, -0.1197, -0.1486, -0.2521, -0.1332, -0.0595, -0.2295,\n",
       "          0.2202,  0.2215]], grad_fn=<AddmmBackward0>)"
      ]
     },
     "execution_count": 4,
     "metadata": {},
     "output_type": "execute_result"
    }
   ],
   "source": [
    "import torch\n",
    "from torch import nn\n",
    "from torch.nn import functional as F\n",
    "\n",
    "net = nn.Sequential(nn.Linear(20,256),nn.ReLU(),nn.Linear(256, 10))\n",
    "X= torch.rand(2,20)\n",
    "net(X)"
   ]
  },
  {
   "cell_type": "markdown",
   "id": "0b76d826",
   "metadata": {},
   "source": [
    "## 自定义块\n",
    "下面的`MLP`类继承了表示块的类。实现只需要提供构造函数（Python中的`__init__`函数）和前向传播函数（`forward`函数）。  \n",
    "1.定制的`__init__`函数通过`super().__init__()`调用父类的`__init__`函数。   \n",
    "2.实例化两个全连接层，分别为`self.hidden`和`self.out`。  \n",
    "3.前向传播函数，它以`X`作为输入，计算带有激活函数的隐藏表示，并输出其未规范化的输出值。  \n",
    "在这个`MLP`实现中，两个层都是实例变量。"
   ]
  },
  {
   "cell_type": "code",
   "execution_count": 5,
   "id": "dff13b30",
   "metadata": {},
   "outputs": [],
   "source": [
    "class MLP(nn.Module):\n",
    "    # 用模型参数声明层。这里，声明两个全连接的层\n",
    "    def __init__(self):\n",
    "        # 调用MLP的父类Module的构造函数来执行必要的初始化。\n",
    "        # 这样，在类实例化时也可以指定其他函数参数，例如模型参数params（稍后将介绍）\n",
    "        super().__init__()\n",
    "        self.hidden = nn.Linear(20, 256)  # 隐藏层\n",
    "        self.out = nn.Linear(256, 10)  # 输出层\n",
    "\n",
    "    # 定义模型的前向传播，即如何根据输入X返回所需的模型输出\n",
    "    def forward(self, X):\n",
    "        # 注意，这里使用ReLU的函数版本，其在nn.functional模块中定义。\n",
    "        return self.out(F.relu(self.hidden(X)))"
   ]
  },
  {
   "cell_type": "code",
   "execution_count": 6,
   "id": "c3dd63de",
   "metadata": {},
   "outputs": [
    {
     "data": {
      "text/plain": [
       "tensor([[ 0.0327,  0.1768,  0.1115, -0.2158,  0.0729, -0.1511, -0.0554,  0.0229,\n",
       "         -0.0271, -0.1190],\n",
       "        [ 0.0175,  0.1743,  0.0817, -0.2650,  0.1565, -0.1770, -0.1179,  0.0101,\n",
       "         -0.0270,  0.0449]], grad_fn=<AddmmBackward0>)"
      ]
     },
     "execution_count": 6,
     "metadata": {},
     "output_type": "execute_result"
    }
   ],
   "source": [
    "net = MLP()\n",
    "net(X)"
   ]
  },
  {
   "cell_type": "markdown",
   "id": "f03f51eb",
   "metadata": {},
   "source": [
    "## 顺序块\n",
    "构建自己的简化的`MySequential`，只需要定义两个关键函数：\n",
    "1. 一种将块逐个追加到列表中的函数。\n",
    "2. 一种前向传播函数，用于将输入按追加块的顺序传递给块组成的“链条”。\n",
    "\n",
    "为什么每个`Module`都有一个`_modules`属性，为什么使用它而不是自己定义一个Python列表？\n",
    "`_modules`的主要优点是：在模块的参数初始化过程中，系统知道在`_modules`字典中查找需要初始化参数的子块。"
   ]
  },
  {
   "cell_type": "code",
   "execution_count": 7,
   "id": "e30d6f4e",
   "metadata": {},
   "outputs": [],
   "source": [
    "class MySequential(nn.Module):\n",
    "    def __init__(self,*args):\n",
    "        super().__init__()\n",
    "        for idx,module in enumerate(args):\n",
    "            # 这里，module是Module子类的一个实例。\n",
    "            # 变量_modules中。_module的类型是OrderedDict\n",
    "            self._modules[str(idx)] = module\n",
    "            \n",
    "    def forward(self, X):\n",
    "        # OrderedDict保证了按照成员添加的顺序遍历它们\n",
    "        for block in self._modules.values():\n",
    "            X = block(X)\n",
    "        return X"
   ]
  },
  {
   "cell_type": "code",
   "execution_count": 8,
   "id": "6a9c7ba9",
   "metadata": {},
   "outputs": [
    {
     "data": {
      "text/plain": [
       "tensor([[-0.1928, -0.1240,  0.1268,  0.0776,  0.1725,  0.0035, -0.0161, -0.1311,\n",
       "          0.1225,  0.0147],\n",
       "        [-0.1538, -0.2169,  0.1455,  0.0109,  0.0809, -0.0580,  0.1365, -0.0690,\n",
       "          0.0972,  0.1093]], grad_fn=<AddmmBackward0>)"
      ]
     },
     "execution_count": 8,
     "metadata": {},
     "output_type": "execute_result"
    }
   ],
   "source": [
    "net = MySequential(nn.Linear(20, 256), nn.ReLU(), nn.Linear(256, 10))\n",
    "net(X)"
   ]
  },
  {
   "cell_type": "markdown",
   "id": "4f09d214",
   "metadata": {},
   "source": [
    "## 在前向传播函数中执行代码\n",
    "到目前为止，我们网络中的所有操作都对网络的激活值及网络的参数起作用。  \n",
    "然而，有时可能希望合并既不是上一层的结果也不是可更新参数的项，称之为*常数参数*（constant parameter）。  \n",
    "例如，需要一个计算函数$f(\\mathbf{x},\\mathbf{w}) = c \\cdot \\mathbf{w}^\\top \\mathbf{x}$的层，\n",
    "其中$\\mathbf{x}$是输入，$\\mathbf{w}$是参数，$c$是某个在优化过程中没有更新的指定常量。  \n",
    "因此实现了一个`FixedHiddenMLP`类，如下所示："
   ]
  },
  {
   "cell_type": "code",
   "execution_count": 9,
   "id": "cfc83ead",
   "metadata": {},
   "outputs": [],
   "source": [
    "class FixedHiddenMLP(nn.Module):\n",
    "    def __init__(self):\n",
    "        super().__init__()\n",
    "        # 不计算梯度的随机权重参数。因此其在训练期间保持不变\n",
    "        self.rand_weight = torch.rand((20, 20), requires_grad=False)\n",
    "        self.linear = nn.Linear(20, 20)\n",
    "\n",
    "    def forward(self, X):\n",
    "        X = self.linear(X)\n",
    "        # 使用创建的常量参数以及relu和mm函数\n",
    "        X = F.relu(torch.mm(X, self.rand_weight) + 1)\n",
    "        # 复用全连接层。这相当于两个全连接层共享参数\n",
    "        X = self.linear(X)\n",
    "        # 控制流\n",
    "        while X.abs().sum() > 1:\n",
    "            X /= 2\n",
    "        return X.sum()"
   ]
  },
  {
   "cell_type": "markdown",
   "id": "22bd2fcf",
   "metadata": {},
   "source": [
    "在返回输出之前，模型运行了一个while循环，在$L_1$范数大于$1$的条件下，将输出向量除以$2$，直到它满足条件为止。最后，返回`X`中所有项的和。\n",
    "注意，此操作可能不会常用于在任何实际任务中，只用于展示如何将任意代码集成到神经网络计算的流程中。"
   ]
  },
  {
   "cell_type": "code",
   "execution_count": 10,
   "id": "ed222a2e",
   "metadata": {},
   "outputs": [
    {
     "data": {
      "text/plain": [
       "tensor(0.0484, grad_fn=<SumBackward0>)"
      ]
     },
     "execution_count": 10,
     "metadata": {},
     "output_type": "execute_result"
    }
   ],
   "source": [
    "net = FixedHiddenMLP()\n",
    "net(X)"
   ]
  },
  {
   "cell_type": "markdown",
   "id": "00f9c877",
   "metadata": {},
   "source": [
    "## 混合搭配各种组合块"
   ]
  },
  {
   "cell_type": "code",
   "execution_count": 11,
   "id": "1fb87535",
   "metadata": {},
   "outputs": [
    {
     "data": {
      "text/plain": [
       "tensor(-0.1590, grad_fn=<SumBackward0>)"
      ]
     },
     "execution_count": 11,
     "metadata": {},
     "output_type": "execute_result"
    }
   ],
   "source": [
    "class NestMLP(nn.Module):\n",
    "    def __init__(self):\n",
    "        super().__init__()\n",
    "        self.net = nn.Sequential(nn.Linear(20, 64), nn.ReLU(),\n",
    "                                 nn.Linear(64, 32), nn.ReLU())\n",
    "        self.linear = nn.Linear(32, 16)\n",
    "    \n",
    "    def forward(self, X):\n",
    "        return self.linear(self.net(X))\n",
    "\n",
    "chimera = nn.Sequential(NestMLP(), nn.Linear(16, 20), FixedHiddenMLP())\n",
    "chimera(X)"
   ]
  }
 ],
 "metadata": {
  "kernelspec": {
   "display_name": "Python 3 (ipykernel)",
   "language": "python",
   "name": "python3"
  },
  "language_info": {
   "codemirror_mode": {
    "name": "ipython",
    "version": 3
   },
   "file_extension": ".py",
   "mimetype": "text/x-python",
   "name": "python",
   "nbconvert_exporter": "python",
   "pygments_lexer": "ipython3",
   "version": "3.9.19"
  }
 },
 "nbformat": 4,
 "nbformat_minor": 5
}
