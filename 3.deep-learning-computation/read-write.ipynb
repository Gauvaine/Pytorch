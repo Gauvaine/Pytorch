{
 "cells": [
  {
   "cell_type": "markdown",
   "id": "673f86aa",
   "metadata": {},
   "source": [
    "# 读写文件\n",
    "保存训练的模型，以备将来在各种环境中使用（比如在部署中进行预测），即学习如何加载和存储权重向量和整个模型。\n",
    "\n",
    "## 加载和保存张量\n",
    "对于单个张量，可以直接调用`load`和`save`函数分别读写它们。"
   ]
  },
  {
   "cell_type": "code",
   "execution_count": 1,
   "id": "e96df6e5",
   "metadata": {},
   "outputs": [
    {
     "name": "stdout",
     "output_type": "stream",
     "text": [
      "tensor([0, 1, 2, 3])\n"
     ]
    }
   ],
   "source": [
    "import torch\n",
    "from torch import nn\n",
    "from torch.nn import functional as F\n",
    "\n",
    "# save要求将要保存的变量作为输入\n",
    "x = torch.arange(4)\n",
    "torch.save(x, 'x-file')\n",
    "# load\n",
    "x2 = torch.load('x-file')\n",
    "print(x2)"
   ]
  },
  {
   "cell_type": "markdown",
   "id": "e3033b70",
   "metadata": {},
   "source": [
    "存储一个张量列表，然后把它们读回内存。"
   ]
  },
  {
   "cell_type": "code",
   "execution_count": 2,
   "id": "dad0357e",
   "metadata": {},
   "outputs": [
    {
     "data": {
      "text/plain": [
       "(tensor([0, 1, 2, 3]), tensor([0., 0., 0., 0.]))"
      ]
     },
     "execution_count": 2,
     "metadata": {},
     "output_type": "execute_result"
    }
   ],
   "source": [
    "y = torch.zeros(4)\n",
    "torch.save([x, y],'x-files')\n",
    "x2, y2 = torch.load('x-files')\n",
    "(x2, y2)"
   ]
  },
  {
   "cell_type": "markdown",
   "id": "9d3d3aaf",
   "metadata": {},
   "source": [
    "写入或读取从字符串映射到张量的字典。"
   ]
  },
  {
   "cell_type": "code",
   "execution_count": 3,
   "id": "20790f76",
   "metadata": {},
   "outputs": [
    {
     "data": {
      "text/plain": [
       "{'x': tensor([0, 1, 2, 3]), 'y': tensor([0., 0., 0., 0.])}"
      ]
     },
     "execution_count": 3,
     "metadata": {},
     "output_type": "execute_result"
    }
   ],
   "source": [
    "mydict = {'x': x, 'y': y}\n",
    "torch.save(mydict, 'mydict')\n",
    "mydict2 = torch.load('mydict')\n",
    "mydict2"
   ]
  },
  {
   "cell_type": "markdown",
   "id": "f1cc57c4",
   "metadata": {},
   "source": [
    "## 加载和保存模型参数\n",
    "**需要原始模型MLP()和存储参数的文件**，主要函数：**net.state_dict()** 和 **net.load_state_dict()**"
   ]
  },
  {
   "cell_type": "code",
   "execution_count": 7,
   "id": "ef88fbf1",
   "metadata": {},
   "outputs": [
    {
     "data": {
      "text/plain": [
       "MLP(\n",
       "  (hidden): Linear(in_features=20, out_features=256, bias=True)\n",
       "  (output): Linear(in_features=256, out_features=10, bias=True)\n",
       ")"
      ]
     },
     "execution_count": 7,
     "metadata": {},
     "output_type": "execute_result"
    }
   ],
   "source": [
    "class MLP(nn.Module):\n",
    "    def __init__(self):\n",
    "        super().__init__()\n",
    "        self.hidden = nn.Linear(20, 256)\n",
    "        self.output = nn.Linear(256, 10)\n",
    "\n",
    "    def forward(self, x):\n",
    "        return self.output(F.relu(self.hidden(x)))\n",
    "\n",
    "X = torch.randn(size=(2, 20))\n",
    "net = MLP()\n",
    "Y = net(X)\n",
    "\n",
    "torch.save(net.state_dict(), 'mlp.params')\n",
    "\n",
    "clone_net = MLP()\n",
    "clone_net.load_state_dict(torch.load('mlp.params'))\n",
    "clone_net.eval()"
   ]
  },
  {
   "cell_type": "code",
   "execution_count": 6,
   "id": "c18afb8e",
   "metadata": {},
   "outputs": [
    {
     "data": {
      "text/plain": [
       "tensor([[True, True, True, True, True, True, True, True, True, True],\n",
       "        [True, True, True, True, True, True, True, True, True, True]])"
      ]
     },
     "execution_count": 6,
     "metadata": {},
     "output_type": "execute_result"
    }
   ],
   "source": [
    "Y_clone = clone_net(X)\n",
    "Y_clone == Y"
   ]
  }
 ],
 "metadata": {
  "kernelspec": {
   "display_name": "Python 3 (ipykernel)",
   "language": "python",
   "name": "python3"
  },
  "language_info": {
   "codemirror_mode": {
    "name": "ipython",
    "version": 3
   },
   "file_extension": ".py",
   "mimetype": "text/x-python",
   "name": "python",
   "nbconvert_exporter": "python",
   "pygments_lexer": "ipython3",
   "version": "3.9.19"
  }
 },
 "nbformat": 4,
 "nbformat_minor": 5
}
