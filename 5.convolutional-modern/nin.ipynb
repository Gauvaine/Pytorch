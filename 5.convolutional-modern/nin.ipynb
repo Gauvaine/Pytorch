{
 "cells": [
  {
   "cell_type": "markdown",
   "id": "bc9b09a7",
   "metadata": {},
   "source": [
    "# 网络中的网络（NiN）\n",
    "\n",
    "LeNet、AlexNet和VGG都有一个共同的设计模式：通过一系列的卷积层与汇聚层来提取空间结构特征，然后通过全连接层对特征的表征进行处理。  \n",
    "AlexNet和VGG对LeNet的改进主要在于如何扩大和加深这两个模块。\n",
    "\n",
    "\n",
    "卷积层的输入和输出由四维张量组成，张量的每个轴分别对应样本、通道、高度和宽度。全连接层的输入和输出通常分别对应于样本和特征的二维张量。  \n",
    "NiN的想法是在每个像素位置（针对每个高度和宽度）应用一个全连接层。  \n",
    "如果我们将权重连接到每个空间位置，我们可以将其视为$1\\times 1$卷积层，或作为在每个像素位置上独立作用的全连接层。  \n",
    "从另一个角度看，即将空间维度中的每个像素视为单个样本，将通道维度视为不同特征（feature）。\n",
    "\n",
    "![对比 VGG 和 NiN 及它们的块之间主要架构差异。](../img/nin.svg)\n",
    "\n",
    "NiN块：1个卷积层+2个全连接层（$1 \\times 1$的卷积层）  \n",
    "第一层的卷积窗口形状通常由用户设置。随后的卷积窗口形状固定为$1 \\times 1$，充当带有ReLU激活函数的逐像素全连接层。\n",
    "\n",
    "NiN架构：\n",
    "* 无全连接层（显著减少了模型所需参数的数量）\n",
    "* 交替使用NiN块和步幅为2的最大池化层：逐步减小高宽和增大通道数\n",
    "* 最后使用全局平均池化层得到输出（其输入通道数是类别数）\n"
   ]
  },
  {
   "cell_type": "code",
   "execution_count": 1,
   "id": "21d23b52",
   "metadata": {},
   "outputs": [],
   "source": [
    "import torch\n",
    "from torch import nn\n",
    "from d2l import torch as d2l\n",
    "\n",
    "def nin_block(in_channels, out_channels, kernel_size, strides, padding):\n",
    "    return nn.Sequential(\n",
    "        nn.Conv2d(in_channels, out_channels, kernel_size, strides, padding),\n",
    "        nn.ReLU(),\n",
    "        nn.Conv2d(out_channels, out_channels, kernel_size=1), nn.ReLU(),\n",
    "        nn.Conv2d(out_channels, out_channels, kernel_size=1), nn.ReLU())"
   ]
  },
  {
   "cell_type": "code",
   "execution_count": 2,
   "id": "1d6db23d",
   "metadata": {},
   "outputs": [],
   "source": [
    "net = nn.Sequential(\n",
    "    nin_block(1, 96, kernel_size=11, strides=4, padding=0),\n",
    "    nn.MaxPool2d(3, stride=2),\n",
    "    nin_block(96, 256, kernel_size=5, strides=1, padding=2),\n",
    "    nn.MaxPool2d(3, stride=2),\n",
    "    nin_block(256, 384, kernel_size=3, strides=1, padding=1),\n",
    "    nn.MaxPool2d(3, stride=2),\n",
    "    nn.Dropout(0.5),\n",
    "    # 标签类别数是10\n",
    "    nin_block(384, 10, kernel_size=3, strides=1, padding=1),\n",
    "    nn.AdaptiveAvgPool2d((1, 1)),\n",
    "    # 将四维的输出转成二维的输出，其形状为(批量大小,10)\n",
    "    nn.Flatten())"
   ]
  },
  {
   "cell_type": "code",
   "execution_count": 3,
   "id": "b046e37b",
   "metadata": {},
   "outputs": [
    {
     "name": "stdout",
     "output_type": "stream",
     "text": [
      "Sequential output shape:\t torch.Size([1, 96, 54, 54])\n",
      "MaxPool2d output shape:\t torch.Size([1, 96, 26, 26])\n",
      "Sequential output shape:\t torch.Size([1, 256, 26, 26])\n",
      "MaxPool2d output shape:\t torch.Size([1, 256, 12, 12])\n",
      "Sequential output shape:\t torch.Size([1, 384, 12, 12])\n",
      "MaxPool2d output shape:\t torch.Size([1, 384, 5, 5])\n",
      "Dropout output shape:\t torch.Size([1, 384, 5, 5])\n",
      "Sequential output shape:\t torch.Size([1, 10, 5, 5])\n",
      "AdaptiveAvgPool2d output shape:\t torch.Size([1, 10, 1, 1])\n",
      "Flatten output shape:\t torch.Size([1, 10])\n"
     ]
    }
   ],
   "source": [
    "# 创建一个数据样本来查看每个块的输出形状\n",
    "X = torch.rand(size=(1, 1, 224, 224))\n",
    "for layer in net:\n",
    "    X = layer(X)\n",
    "    print(layer.__class__.__name__,'output shape:\\t', X.shape)"
   ]
  },
  {
   "cell_type": "markdown",
   "id": "0ba30da5",
   "metadata": {},
   "source": [
    "## 训练模型"
   ]
  },
  {
   "cell_type": "code",
   "execution_count": null,
   "id": "20991870",
   "metadata": {},
   "outputs": [],
   "source": [
    "lr, num_epochs, batch_size = 0.1, 10, 128\n",
    "train_iter, test_iter = d2l.load_data_fashion_mnist(batch_size, resize=224)\n",
    "d2l.train_ch6(net, train_iter, test_iter, num_epochs, lr, d2l.try_gpu())"
   ]
  },
  {
   "cell_type": "markdown",
   "id": "d9e00c8a",
   "metadata": {},
   "source": [
    "## 小结\n",
    "* NiN块使用卷积层加两个1x1卷积层，后者对每个像素增加了非线性性\n",
    "* NiN使用全局平均池化层来替代VGG和AlexNet中的全连接层，不容易过拟合，同时有更少的参数个数"
   ]
  }
 ],
 "metadata": {
  "kernelspec": {
   "display_name": "Python 3 (ipykernel)",
   "language": "python",
   "name": "python3"
  },
  "language_info": {
   "codemirror_mode": {
    "name": "ipython",
    "version": 3
   },
   "file_extension": ".py",
   "mimetype": "text/x-python",
   "name": "python",
   "nbconvert_exporter": "python",
   "pygments_lexer": "ipython3",
   "version": "3.9.19"
  }
 },
 "nbformat": 4,
 "nbformat_minor": 5
}
