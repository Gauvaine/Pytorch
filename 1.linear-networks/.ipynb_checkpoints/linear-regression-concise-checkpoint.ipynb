{
 "cells": [
  {
   "cell_type": "markdown",
   "id": "614218cf",
   "metadata": {},
   "source": [
    "# 线性回归的简洁实现\n",
    "如何(**通过使用深度学习框架来简洁地实现**)\n",
    " :numref:`sec_linear_scratch`中的(**线性回归模型**)。\n",
    "\n",
    "## 生成数据集"
   ]
  },
  {
   "cell_type": "code",
   "execution_count": 1,
   "id": "3fdac543",
   "metadata": {},
   "outputs": [],
   "source": [
    "import numpy as np\n",
    "import torch\n",
    "from torch.utils import data\n",
    "from d2l import torch as d2l"
   ]
  },
  {
   "cell_type": "code",
   "execution_count": 2,
   "id": "eea09aeb",
   "metadata": {},
   "outputs": [],
   "source": [
    "true_w = torch.tensor([2, -3.4])\n",
    "true_b = 4.2\n",
    "features, labels = d2l.synthetic_data(true_w, true_b, 1000)"
   ]
  },
  {
   "cell_type": "markdown",
   "id": "04a058fb",
   "metadata": {},
   "source": [
    "## 读取数据集\n",
    "\n",
    "[**调用框架中现有的API来读取数据**]。\n",
    "将`features`和`labels`作为API的参数传递，并通过数据迭代器指定`batch_size`。\n",
    "此外，布尔值`is_train`表示是否希望数据迭代器对象在每个迭代周期内打乱数据。\n"
   ]
  },
  {
   "cell_type": "code",
   "execution_count": 3,
   "id": "86dfc983",
   "metadata": {},
   "outputs": [],
   "source": [
    "def load_array(data_arrays, batch_size, is_train=True):  #@save\n",
    "    \"\"\"构造一个PyTorch数据迭代器\"\"\"\n",
    "    dataset = data.TensorDataset(*data_arrays)\n",
    "    return data.DataLoader(dataset, batch_size, shuffle=is_train)"
   ]
  },
  {
   "cell_type": "code",
   "execution_count": 4,
   "id": "74ac391d",
   "metadata": {},
   "outputs": [],
   "source": [
    "batch_size = 10\n",
    "data_iter = load_array((features, labels), batch_size)"
   ]
  },
  {
   "cell_type": "markdown",
   "id": "7ef554aa",
   "metadata": {},
   "source": [
    "为了验证是否正常工作，读取并打印第一个小批量样本：使用iter构造Python迭代器，并使用next从迭代器中获取第一项。"
   ]
  },
  {
   "cell_type": "code",
   "execution_count": 5,
   "id": "e51247c8",
   "metadata": {},
   "outputs": [
    {
     "data": {
      "text/plain": [
       "[tensor([[ 0.2852,  1.1958],\n",
       "         [ 0.2385, -1.7974],\n",
       "         [-1.7904, -1.4159],\n",
       "         [ 0.0225, -0.7400],\n",
       "         [ 2.1171, -0.4587],\n",
       "         [-0.8494, -1.5717],\n",
       "         [ 0.3191, -0.1975],\n",
       "         [ 0.4305, -0.5682],\n",
       "         [-0.0098, -0.0663],\n",
       "         [-0.8820,  1.7442]]),\n",
       " tensor([[ 0.7039],\n",
       "         [10.7877],\n",
       "         [ 5.4310],\n",
       "         [ 6.7736],\n",
       "         [10.0091],\n",
       "         [ 7.8271],\n",
       "         [ 5.5065],\n",
       "         [ 6.9909],\n",
       "         [ 4.3963],\n",
       "         [-3.5062]])]"
      ]
     },
     "execution_count": 5,
     "metadata": {},
     "output_type": "execute_result"
    }
   ],
   "source": [
    "next(iter(data_iter))"
   ]
  },
  {
   "cell_type": "markdown",
   "id": "855d89c6",
   "metadata": {},
   "source": [
    "## 定义模型\n",
    "*全连接层*（fully-connected layer）：每一个输入都通过矩阵-向量乘法得到它的每个输出。  \n",
    "在PyTorch中，全连接层在`Linear`类中定义，我们将两个参数传递到`nn.Linear`中。\n",
    "第一个指定输入特征形状，第二个指定输出特征形状。"
   ]
  },
  {
   "cell_type": "code",
   "execution_count": 6,
   "id": "2a08ed83",
   "metadata": {},
   "outputs": [],
   "source": [
    "# nn是神经网络的缩写\n",
    "from torch import nn\n",
    "\n",
    "net = nn.Sequential(nn.Linear(2, 1))"
   ]
  },
  {
   "cell_type": "markdown",
   "id": "2eadf11f",
   "metadata": {},
   "source": [
    "## 初始化模型参数\n",
    "同构造`nn.Linear`时指定输入和输出尺寸一样，能直接访问参数以设定它们的初始值。  \n",
    "通过`net[0]`选择网络中的第一个图层，然后使用`weight.data`和`bias.data`方法访问参数。  \n",
    "并且还可以使用替换方法`normal_`和`fill_`来重写参数值。"
   ]
  },
  {
   "cell_type": "code",
   "execution_count": 7,
   "id": "2cc01442",
   "metadata": {},
   "outputs": [
    {
     "data": {
      "text/plain": [
       "tensor([0.])"
      ]
     },
     "execution_count": 7,
     "metadata": {},
     "output_type": "execute_result"
    }
   ],
   "source": [
    "net[0].weight.data.normal_(0, 0.01)\n",
    "net[0].bias.data.fill_(0)"
   ]
  },
  {
   "cell_type": "markdown",
   "id": "a3d08c05",
   "metadata": {},
   "source": [
    "## 定义损失函数\n",
    "[**计算均方误差使用的是`MSELoss`类，也称为平方$L_2$范数**]。\n",
    "默认情况下，它返回所有样本损失的平均值。"
   ]
  },
  {
   "cell_type": "code",
   "execution_count": 8,
   "id": "373c674d",
   "metadata": {},
   "outputs": [],
   "source": [
    "loss = nn.MSELoss()"
   ]
  },
  {
   "cell_type": "markdown",
   "id": "d80015df",
   "metadata": {},
   "source": [
    "## 定义优化算法\n",
    "小批量随机梯度下降算法是一种优化神经网络的标准工具，PyTorch在`optim`模块中实现了该算法的许多变种。  \n",
    "当(**实例化一个`SGD`实例**)时，要指定优化的参数：`net.parameters()`以及优化算法所需的超参数字典如小批量随机梯度下降需要设置`lr`值。"
   ]
  },
  {
   "cell_type": "code",
   "execution_count": 10,
   "id": "ac946b33",
   "metadata": {},
   "outputs": [],
   "source": [
    "trainer = torch.optim.SGD(net.parameters(), lr=0.03)"
   ]
  },
  {
   "cell_type": "markdown",
   "id": "f0caf04a",
   "metadata": {},
   "source": [
    "## 训练\n",
    "在每个迭代周期里，将完整遍历一次数据集（`train_data`），\n",
    "不停地从中获取一个小批量的输入和相应的标签。\n",
    "对于每一个小批量，会进行以下步骤:\n",
    "\n",
    "* 通过调用`net(X)`生成预测并计算损失`l`（前向传播）。\n",
    "* 通过进行反向传播来计算梯度。\n",
    "* 通过调用优化器来更新模型参数。\n",
    "\n",
    "为了更好的衡量训练效果，需要计算每个迭代周期后的损失，并打印它来监控训练过程。\n"
   ]
  },
  {
   "cell_type": "code",
   "execution_count": 11,
   "id": "3f5fdfc4",
   "metadata": {},
   "outputs": [
    {
     "name": "stdout",
     "output_type": "stream",
     "text": [
      "epoch 1, loss 0.000241\n",
      "epoch 2, loss 0.000097\n",
      "epoch 3, loss 0.000097\n"
     ]
    }
   ],
   "source": [
    "num_epochs = 3\n",
    "for epoch in range(num_epochs):\n",
    "    for X, y in data_iter:\n",
    "        l = loss(net(X) ,y)\n",
    "        trainer.zero_grad()\n",
    "        l.backward()\n",
    "        trainer.step()\n",
    "    l = loss(net(features), labels)\n",
    "    print(f'epoch {epoch + 1}, loss {l:f}')"
   ]
  },
  {
   "cell_type": "code",
   "execution_count": 12,
   "id": "29817195",
   "metadata": {},
   "outputs": [
    {
     "name": "stdout",
     "output_type": "stream",
     "text": [
      "w的估计误差： tensor([-2.6608e-04,  4.0531e-05])\n",
      "b的估计误差： tensor([-0.0002])\n"
     ]
    }
   ],
   "source": [
    "w = net[0].weight.data\n",
    "print('w的估计误差：', true_w - w.reshape(true_w.shape))\n",
    "b = net[0].bias.data\n",
    "print('b的估计误差：', true_b - b)"
   ]
  }
 ],
 "metadata": {
  "kernelspec": {
   "display_name": "Python 3 (ipykernel)",
   "language": "python",
   "name": "python3"
  },
  "language_info": {
   "codemirror_mode": {
    "name": "ipython",
    "version": 3
   },
   "file_extension": ".py",
   "mimetype": "text/x-python",
   "name": "python",
   "nbconvert_exporter": "python",
   "pygments_lexer": "ipython3",
   "version": "3.9.19"
  }
 },
 "nbformat": 4,
 "nbformat_minor": 5
}
